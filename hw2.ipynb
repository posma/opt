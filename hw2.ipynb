{
  "nbformat": 4,
  "nbformat_minor": 0,
  "metadata": {
    "colab": {
      "name": "hw2.ipynb",
      "provenance": [],
      "collapsed_sections": [],
      "authorship_tag": "ABX9TyNh1x5JAO2eRRSdtBBw37+u"
    },
    "kernelspec": {
      "name": "python3",
      "display_name": "Python 3"
    },
    "language_info": {
      "name": "python"
    }
  },
  "cells": [
    {
      "cell_type": "code",
      "execution_count": 1,
      "metadata": {
        "colab": {
          "base_uri": "https://localhost:8080/"
        },
        "id": "WHDrRPw_-SgT",
        "outputId": "16f47c2e-1f75-48cf-ca5d-3bcd2f158378"
      },
      "outputs": [
        {
          "output_type": "stream",
          "name": "stdout",
          "text": [
            "Requirement already satisfied: mip in /usr/local/lib/python3.7/dist-packages (1.13.0)\n",
            "Requirement already satisfied: cffi in /usr/local/lib/python3.7/dist-packages (from mip) (1.15.0)\n",
            "Requirement already satisfied: pycparser in /usr/local/lib/python3.7/dist-packages (from cffi->mip) (2.21)\n"
          ]
        }
      ],
      "source": [
        "pip install mip"
      ]
    },
    {
      "cell_type": "code",
      "source": [
        ""
      ],
      "metadata": {
        "id": "eGm7SzlTodxS"
      },
      "execution_count": 2,
      "outputs": []
    },
    {
      "cell_type": "code",
      "source": [
        "from mip import Model, xsum, maximize, BINARY\n",
        "from more_itertools import locate"
      ],
      "metadata": {
        "id": "qL7qyCQx-cQO"
      },
      "execution_count": 3,
      "outputs": []
    },
    {
      "cell_type": "code",
      "source": [
        "objects = []\n",
        "weights = []\n",
        "prices = []\n",
        "volumes = []\n",
        "W = 1\n",
        "\n",
        "with open('opt2.txt') as txt:\n",
        "  for line in txt:\n",
        "    l = line.rstrip().split()\n",
        "    objects.append(l[0])\n",
        "    prices.append(float(l[1]))\n",
        "    weights.append(float(l[2]))\n",
        "    volumes.append(float(l[3]))\n",
        "\n",
        "depends = {}\n",
        "with open('opt2_dep.txt') as txt:\n",
        "  for line in txt:\n",
        "    l = line.rstrip().split()\n",
        "    depends[l[1]] = l[0]\n",
        "\n",
        "over = {}\n",
        "with open('opt2_over.txt') as txt:\n",
        "  for line in txt:\n",
        "    l = line.rstrip().split()\n",
        "    for i in range(len(l)-1):\n",
        "      over[l[i]] = float(l[-1])"
      ],
      "metadata": {
        "id": "YG1uNe94BQJX"
      },
      "execution_count": 4,
      "outputs": []
    },
    {
      "cell_type": "markdown",
      "source": [
        "**base code**"
      ],
      "metadata": {
        "id": "MyrsTVlGMzHA"
      }
    },
    {
      "cell_type": "code",
      "source": [
        "W = 0.5\n",
        "m = Model(\"knapsack\")\n",
        "x = [m.add_var(var_type=BINARY) for i in range(len(objects))]\n",
        "m.objective = maximize(xsum(prices[i] * x[i] for i in range(len(objects))))\n",
        "m += xsum(weights[i] * x[i] for i in range(len(objects))) <= W\n",
        "\n",
        "m.optimize()\n",
        "selected = [i for i in range(len(objects)) if x[i].x >= 0.99]\n",
        "sels = []\n",
        "\n",
        "for ind in selected:\n",
        "  sels.append(objects[ind])\n",
        "\n",
        "print(\", \".join(sels))"
      ],
      "metadata": {
        "colab": {
          "base_uri": "https://localhost:8080/"
        },
        "id": "HrduCozOCAxL",
        "outputId": "b48040b8-8bef-4ff8-82af-a6eeefc6682e"
      },
      "execution_count": 5,
      "outputs": [
        {
          "output_type": "stream",
          "name": "stdout",
          "text": [
            "Laptop\n"
          ]
        }
      ]
    },
    {
      "cell_type": "markdown",
      "source": [
        "In a regular case the most expensive thing possible to have is a laptop"
      ],
      "metadata": {
        "id": "yl-1KbiDOapL"
      }
    },
    {
      "cell_type": "markdown",
      "source": [
        "**with dependencies**"
      ],
      "metadata": {
        "id": "6JhRUBo4M5ls"
      }
    },
    {
      "cell_type": "code",
      "source": [
        "W = 0.5\n",
        "m = Model('knapsack')\n",
        "x = [m.add_var(var_type=BINARY) for i in range(len(objects))]\n",
        "m.objective = maximize(xsum(prices[i] * x[i] for i in range(len(objects))))\n",
        "m += xsum(weights[i] * x[i] for i in range(len(objects))) <= W\n",
        "\n",
        "for k, v in depends.items():\n",
        "    m += xsum(x[i] for i in (list(locate(objects, lambda j: j == v)))) >= x[objects.index(k)]\n",
        "\n",
        "m.optimize()\n",
        "selected = [i for i in range(len(objects)) if x[i].x >= 0.99]\n",
        "\n",
        "sels = []\n",
        "for ind in selected:\n",
        "  sels.append(objects[ind])\n",
        "\n",
        "print(\", \".join(sels))\n"
      ],
      "metadata": {
        "colab": {
          "base_uri": "https://localhost:8080/"
        },
        "id": "JGm9g10dDCLs",
        "outputId": "b88b35e2-214f-4e9a-b4a8-550614352714"
      },
      "execution_count": 6,
      "outputs": [
        {
          "output_type": "stream",
          "name": "stdout",
          "text": [
            "Flashcard, Cryptokey, Battery\n"
          ]
        }
      ]
    },
    {
      "cell_type": "markdown",
      "source": [
        "with added dependencies, laptop canot be taken just by itself, so the taken objects are changed"
      ],
      "metadata": {
        "id": "b56jHiESOl-j"
      }
    },
    {
      "cell_type": "markdown",
      "source": [
        "**with oversize items**"
      ],
      "metadata": {
        "id": "DJdsXP18NFNo"
      }
    },
    {
      "cell_type": "code",
      "source": [
        "#over"
      ],
      "metadata": {
        "id": "u95lIWH3E358"
      },
      "execution_count": 7,
      "outputs": []
    },
    {
      "cell_type": "code",
      "source": [
        "W = 0.58\n",
        "m = Model('knapsack')\n",
        "x = [m.add_var(var_type=BINARY) for i in range(len(objects))]\n",
        "m.objective = maximize(xsum(prices[i] * x[i] for i in range(len(objects))))\n",
        "m += xsum(weights[i] * x[i] for i in range(len(objects))) <= W\n"
      ],
      "metadata": {
        "id": "0HHTAVhlAnOB"
      },
      "execution_count": 13,
      "outputs": []
    },
    {
      "cell_type": "code",
      "source": [
        "y = {}\n",
        "for key in over.keys():\n",
        "  y[key] = [m.add_var(var_type=BINARY) for i in range(len(objects))]\n",
        "\n",
        "m.objective = maximize(xsum(prices[i] * x[i] for i in range(len(objects))))\n",
        "m += xsum(weights[i] * x[i] for i in range(len(objects))) <= W\n",
        "\n",
        "for key, value in over.items():\n",
        "  for i in range(len(objects)):\n",
        "    m += x[i] + x[objects.index(key)] - y[key][i] <= 1\n",
        "    if i != objects.index(key):\n",
        "      m += volumes[i] * y[key][i] <= value\n",
        "\n",
        "m.optimize()\n",
        "selected = [i for i in range(len(objects)) if x[i].x >= 0.99]\n",
        "\n",
        "sels = []\n",
        "for ind in selected:\n",
        "  sels.append(objects[ind])\n",
        "\n",
        "print(\", \".join(sels))"
      ],
      "metadata": {
        "colab": {
          "base_uri": "https://localhost:8080/"
        },
        "id": "YOfoYLUhWFLW",
        "outputId": "e609b2fa-a27c-4b05-8580-786f1e8f9080"
      },
      "execution_count": 14,
      "outputs": [
        {
          "output_type": "stream",
          "name": "stdout",
          "text": [
            "Laptop, Flashcard, Cryptokey\n"
          ]
        }
      ]
    },
    {
      "cell_type": "markdown",
      "source": [
        "Laptop (10) + Flashcard (5) + Cryptokey (1) are equal to 0.52. Battery or charger can fit by weight (0.05 and 0.01 are less than the place that is rest = 0.06), but the laptop hav the volume that persist objects with volume higher than 0.05 to be taken. "
      ],
      "metadata": {
        "id": "TFPjyA2JPfU2"
      }
    },
    {
      "cell_type": "code",
      "source": [
        ""
      ],
      "metadata": {
        "id": "F6Q6up1UQIzB"
      },
      "execution_count": null,
      "outputs": []
    }
  ]
}