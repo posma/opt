{
  "nbformat": 4,
  "nbformat_minor": 0,
  "metadata": {
    "colab": {
      "name": "HW3.ipynb",
      "provenance": [],
      "authorship_tag": "ABX9TyNCEYSvz4huZUHX0WsYHwTP"
    },
    "kernelspec": {
      "name": "python3",
      "display_name": "Python 3"
    },
    "language_info": {
      "name": "python"
    }
  },
  "cells": [
    {
      "cell_type": "code",
      "execution_count": null,
      "metadata": {
        "id": "BQRLqj8XUQ-A"
      },
      "outputs": [],
      "source": [
        "import numpy as np\n",
        "import random\n",
        "import operator\n",
        "import pandas as pd\n",
        "from scipy.special import loggamma \n",
        "import math"
      ]
    },
    {
      "cell_type": "markdown",
      "source": [
        "**Genetic algorithm**"
      ],
      "metadata": {
        "id": "fSlbvpKxXDjY"
      }
    },
    {
      "cell_type": "markdown",
      "source": [
        "**Pseudocode**  \n",
        "1. start\n",
        "2. generate initial population\n",
        "3. fitness  \n",
        "4-1. selection  \n",
        "4-2. crossover  \n",
        "4-3. mutation  \n",
        "4-4. fitness  \n"
      ],
      "metadata": {
        "id": "a0jovHV5hlsa"
      }
    },
    {
      "cell_type": "code",
      "source": [
        "M = np.array(pd.read_csv('opt3.txt', header = None, delimiter = \" \"))"
      ],
      "metadata": {
        "id": "gPFhGFcLUqdD"
      },
      "execution_count": null,
      "outputs": []
    },
    {
      "cell_type": "code",
      "source": [
        "def shuffle(n, m=20):\n",
        "  orders = []\n",
        "  for i in range(n):\n",
        "    order = np.array(range(m))\n",
        "    random.shuffle(order)\n",
        "    orders.append(order)\n",
        "  return orders"
      ],
      "metadata": {
        "id": "8OyhFTTsXXZG"
      },
      "execution_count": null,
      "outputs": []
    },
    {
      "cell_type": "code",
      "source": [
        "def prob(M, order):\n",
        "  p = 0.0\n",
        "  for i in range(1, len(order)):\n",
        "    sl = np.array(2 * M[:, order[i - 1]] + M[:, order[i]])\n",
        "    ns = [sum(sl == j) for j in range(0, 4)]\n",
        "    p -= loggamma(ns[0] + ns[1] + 1/2) + loggamma(ns[2] + ns[3] + 1/2)\n",
        "    p += sum(map(lambda n: loggamma(n + 1/4), ns))\n",
        "  return p"
      ],
      "metadata": {
        "id": "LrkDVj0WXtvs"
      },
      "execution_count": null,
      "outputs": []
    },
    {
      "cell_type": "code",
      "source": [
        "# xa and yb orders\n",
        "\n",
        "def crossover(parents_orders):\n",
        "  children = []\n",
        "  x, a = parents_orders[0][0:10], parents_orders[0][10:21]\n",
        "  y, b = parents_orders[1][0:10], parents_orders[1][10:21]\n",
        "  child_1 = np.concatenate((x, b))\n",
        "  child_2 = np.concatenate((y, a))\n",
        "  children.append(child_1)\n",
        "  children.append(child_2)\n",
        "  return(children)"
      ],
      "metadata": {
        "id": "kTeYtOZUWdLV"
      },
      "execution_count": null,
      "outputs": []
    },
    {
      "cell_type": "code",
      "source": [
        "def mutation(order):\n",
        "  random_index = random.randint(0, 18)\n",
        "  x1 = order[random_index]\n",
        "  x2 = order[random_index+1]\n",
        "  order[random_index], order[random_index+1] = x2, x1\n",
        "  return order"
      ],
      "metadata": {
        "id": "iGCw3gQmEdg7"
      },
      "execution_count": null,
      "outputs": []
    },
    {
      "cell_type": "code",
      "source": [
        "def genetic_algorithm(M):\n",
        "  orders = shuffle(100) #get 100 arrats with positions 20\n",
        "  for iter in range(10):\n",
        "    logs = []\n",
        "    for i in range(len(orders)):\n",
        "      log = prob(M, orders[i])\n",
        "      logs.append(log)\n",
        "  \n",
        "    #selection\n",
        "    number_of_selection = math.floor(0.8 * len(logs))\n",
        "    if number_of_selection % 2 != 0:\n",
        "      number_of_selection += 1\n",
        "    best_rows = np.argpartition(logs, -number_of_selection)[-number_of_selection:]\n",
        "    selected = []\n",
        "    for num in best_rows:\n",
        "      selected.append(orders[num])\n",
        "    \n",
        "    #crossover\n",
        "    i = 0\n",
        "    children = []\n",
        "    while i < len(selected):\n",
        "      parents = []\n",
        "      parents.append(selected[i])\n",
        "      i += 1\n",
        "      parents.append(selected[i])\n",
        "      i += 1\n",
        "      childs = crossover(parents)\n",
        "      for ch in childs:\n",
        "        children.append(ch)\n",
        "\n",
        "    #mutation\n",
        "    post_mutation = []\n",
        "    for c in children:\n",
        "      mutated = mutation(c)\n",
        "      post_mutation.append(mutated)\n",
        "\n",
        "    #second fitness\n",
        "    new_logs = []\n",
        "    for i in range(len(post_mutation)):\n",
        "      new_log = prob(M, post_mutation[i])\n",
        "      new_logs.append(new_log)\n",
        "    \n",
        "    if max(logs) <= max(new_logs):\n",
        "      orders = post_mutation\n",
        "      \n",
        "  print(min(logs))\n",
        "  min_log = min(logs)\n",
        "  ind = logs.index(min_log)\n",
        "  print(orders[ind])\n"
      ],
      "metadata": {
        "id": "_LwSRQ1utPez"
      },
      "execution_count": 86,
      "outputs": []
    },
    {
      "cell_type": "code",
      "source": [
        "genetic_algorithm(M)"
      ],
      "metadata": {
        "colab": {
          "base_uri": "https://localhost:8080/"
        },
        "id": "UppLlJ0IWl-a",
        "outputId": "61c4d4f1-4b5a-4980-a871-f3d779e58577"
      },
      "execution_count": 88,
      "outputs": [
        {
          "output_type": "stream",
          "name": "stdout",
          "text": [
            "-1098.1159778765195\n",
            "[12 15  8 18  4  5 13  2 14 16  1  6 10  3  7 11  2  8 19 14]\n"
          ]
        }
      ]
    },
    {
      "cell_type": "code",
      "source": [
        ""
      ],
      "metadata": {
        "id": "TsdII3WWccDM"
      },
      "execution_count": null,
      "outputs": []
    },
    {
      "cell_type": "markdown",
      "source": [
        "**Annealing**"
      ],
      "metadata": {
        "id": "fdaE6Gh8W9px"
      }
    },
    {
      "cell_type": "code",
      "source": [
        "import math"
      ],
      "metadata": {
        "id": "rQ4iJ8PugPzp"
      },
      "execution_count": 12,
      "outputs": []
    },
    {
      "cell_type": "code",
      "source": [
        "def annealing(M, order):\n",
        "  temp = 0.1\n",
        "  p_current = prob(M, order)\n",
        "  p_best = prob(M, order)\n",
        "  s_current = order\n",
        "  s_best = order\n",
        "  for iter in range(8):\n",
        "    s_new = np.array(range(20))\n",
        "    random.shuffle(s_new)\n",
        "    p_new = prob(M, s_new)\n",
        "\n",
        "    difference = p_new - p_current\n",
        "    temp = round(temp/float(iter+1), 6)\n",
        "    mac = math.exp(-difference / temp)\n",
        "\n",
        "    if difference < 0 or random.random() < mac:\n",
        "      s_current = s_new\n",
        "      p_current = p_new\n",
        "\n",
        "    if p_new < p_best:\n",
        "      s_best = s_new\n",
        "      p_best = p_new\n",
        "\n",
        "  print(p_best)\n",
        "  print(s_best)"
      ],
      "metadata": {
        "id": "EAocBsDVbDxM"
      },
      "execution_count": 82,
      "outputs": []
    },
    {
      "cell_type": "code",
      "source": [
        "order = np.array(range(20))\n",
        "random.shuffle(order)\n",
        "\n",
        "annealing(M, order)"
      ],
      "metadata": {
        "colab": {
          "base_uri": "https://localhost:8080/"
        },
        "id": "x9T1oAkggiXH",
        "outputId": "84c53863-d888-4ddf-a48f-758c5d5a0c99"
      },
      "execution_count": 85,
      "outputs": [
        {
          "output_type": "stream",
          "name": "stdout",
          "text": [
            "-1046.8275628793049\n",
            "[13 14  0  9  4 12  2 11 10 19  5  6  1 17  8 15  7  3 18 16]\n"
          ]
        }
      ]
    }
  ]
}